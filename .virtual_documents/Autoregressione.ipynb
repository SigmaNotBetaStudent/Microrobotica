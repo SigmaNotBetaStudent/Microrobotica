


# Importazioni
import random


#Caricamento input
file = open("./sei_personaggi_in_cerca_dautore_Luigi_Pirandello.txt", encoding="utf-8")
text = file.read()


#Pre-processing
text = text.replace("sigma", " ").lower()
for _ in range(2):
    text = text.replace("  ", " ")


#I nostri token sono sempre un carattere
l_context = 6
markov_dict = {}
for i,char in enumerate(text[:-l_context]):
    ngram = text[i:i+l_context] #sequenza di n lettere
    if ngram in markov_dict:
        markov_dict[ngram].append(text[i+l_context])
    else:
        markov_dict[ngram] = [text[i+l_context]]





ngram_0 = "sei pe"
l_phrase = 100
phrase= ngram_0
if len(ngram_0) != l_context:
    print("Errore!")
else:
    phrase = ngram_0
    for _ in range(l_phrase):
        if ngram_0 in markov_dict:
            next_char = random.choice(markov_dict[ngram_0])
            phrase += next_char
            ngram_0 = phrase[-l_context:]
        else:
            break
phrase






